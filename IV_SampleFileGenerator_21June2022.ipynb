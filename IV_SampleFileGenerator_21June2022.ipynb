{
 "cells": [
  {
   "cell_type": "code",
   "execution_count": 1,
   "metadata": {
    "canvas": {
     "comments": [],
     "componentType": "CodeCell",
     "copiedOriginId": null,
     "diskcache": false,
     "headerColor": "none",
     "id": "d91a962f-9abf-44f9-887f-8119b9a33cbc",
     "isComponent": false,
     "name": "",
     "parents": []
    }
   },
   "outputs": [],
   "source": [
    "import matplotlib.pyplot as plt\n",
    "import numpy as np\n",
    "from scipy import signal\n",
    "from scipy import optimize\n",
    "from numpy import random\n",
    "import csv "
   ]
  },
  {
   "cell_type": "markdown",
   "metadata": {
    "canvas": {
     "comments": [],
     "componentType": "CodeCell",
     "copiedOriginId": null,
     "diskcache": false,
     "headerColor": "none",
     "id": "31881f46-1d63-4852-a5ca-61513a4a5193",
     "isComponent": false,
     "name": "",
     "parents": []
    }
   },
   "source": [
    "### Functions: square()"
   ]
  },
  {
   "cell_type": "code",
   "execution_count": 2,
   "metadata": {
    "canvas": {
     "comments": [],
     "componentType": "CodeCell",
     "copiedOriginId": null,
     "diskcache": false,
     "headerColor": "none",
     "id": "a3e3ecff-1cf8-4830-91ea-46ad2d5428ac",
     "isComponent": false,
     "name": "",
     "parents": []
    }
   },
   "outputs": [],
   "source": [
    "def square(points, delay, rise_time, on_time, fall_time, offset, amplitude):\n",
    "    \"\"\"points: total no of points\n",
    "       delay: after how many points the pulse starts\n",
    "       rise_time: in units of number of points\n",
    "       on_time: in units of number of points\n",
    "       fall_time: in units of number of points\n",
    "       offset: vertical baseline value\n",
    "       amplitude: amplitude above (or below with -ve) the offset\n",
    "    \"\"\"\n",
    "    X=[]\n",
    "    for point_no in range(0, points):\n",
    "        if point_no<delay or point_no>delay+rise_time+on_time+fall_time:\n",
    "            X.append(offset)\n",
    "        elif point_no<delay+rise_time:\n",
    "            X.append(offset+amplitude*(point_no-delay)/rise_time)\n",
    "        elif point_no<delay+rise_time+on_time:\n",
    "            X.append(offset+amplitude)\n",
    "        else: X.append(offset+amplitude-amplitude*(point_no-delay-rise_time-on_time)/fall_time)\n",
    "    return X"
   ]
  },
  {
   "cell_type": "markdown",
   "metadata": {
    "canvas": {
     "comments": [],
     "componentType": "CodeCell",
     "copiedOriginId": null,
     "diskcache": false,
     "headerColor": "none",
     "id": "b6dd4d48-3888-4fde-b0a5-b2832f9675da",
     "isComponent": false,
     "name": "",
     "parents": []
    }
   },
   "source": [
    "### Run Settings"
   ]
  },
  {
   "cell_type": "code",
   "execution_count": 5,
   "metadata": {
    "canvas": {
     "comments": [],
     "componentType": "CodeCell",
     "copiedOriginId": null,
     "diskcache": false,
     "headerColor": "none",
     "id": "4a6fc8ba-d96b-4800-a22e-f6f63d863e3c",
     "isComponent": false,
     "name": "",
     "parents": []
    }
   },
   "outputs": [],
   "source": [
    "#Settings\n",
    "plot_=True\n",
    "\n",
    "##rise, on, fall times, offset and amplitude common settings for both channels\n",
    "rise_time=40\n",
    "on_time=10\n",
    "fall_time=400\n",
    "offset=0\n",
    "amplitude=-0.01\n",
    "\n",
    "delayX =500 #delay in number of points for Y channel\n",
    "delayY =550 #delay in number of points for Y channel\n",
    "\n",
    "## Noise Settings\n",
    "noise_=True\n",
    "noise_offset, noise_rms = 0, 0.001\n",
    "fc = 0.8\n",
    "\n",
    "# name of csv file\n",
    "folder_prefix = \"../generated_files/\"\n",
    "no_files=2\n",
    "points=2000\n",
    "fs = 20e9 #sampling rate"
   ]
  },
  {
   "cell_type": "markdown",
   "metadata": {
    "canvas": {
     "comments": [],
     "componentType": "CodeCell",
     "copiedOriginId": null,
     "diskcache": false,
     "headerColor": "none",
     "id": "daf4cd46-df32-4dd5-b3fd-1ab6401b5f55",
     "isComponent": false,
     "name": "",
     "parents": []
    }
   },
   "source": [
    "### File Generation Loop\n",
    ".......Add noise option"
   ]
  },
  {
   "cell_type": "code",
   "execution_count": 7,
   "metadata": {
    "canvas": {
     "comments": [],
     "componentType": "CodeCell",
     "copiedOriginId": null,
     "diskcache": false,
     "headerColor": "none",
     "id": "5ea5d48f-f346-4aa2-a675-77a98c575818",
     "isComponent": false,
     "name": "",
     "parents": []
    }
   },
   "outputs": [
    {
     "name": "stdout",
     "output_type": "stream",
     "text": [
      "fileno:  0\n",
      "fileno:  100\n",
      "fileno:  200\n",
      "fileno:  300\n",
      "fileno:  400\n",
      "fileno:  500\n",
      "fileno:  600\n",
      "fileno:  700\n",
      "fileno:  800\n",
      "fileno:  900\n"
     ]
    }
   ],
   "source": [
    "timestamps = [n*(1/fs) for n in range(0,points)]\n",
    "#common timestamps for all files and both channels\n",
    "for file_no in range(0, no_files):\n",
    "    if(file_no%100==0): print('fileno: ', file_no)\n",
    "\n",
    "    Y=square(points, delayX, rise_time, on_time, fall_time, offset, amplitude)\n",
    "    X=square(points, delayY, rise_time, on_time, fall_time, offset, amplitude)\n",
    "\n",
    "    if(noise_):\n",
    "        whitenoise=random.normal(noise_offset, noise_rms, points)\n",
    "        b, a = signal.butter(10, fc, 'low')\n",
    "        lowpassnoise = signal.filtfilt(b, a, whitenoise)\n",
    "        noisyX=lowpassnoise+X\n",
    "\n",
    "\n",
    "        whitenoise=random.normal(noise_offset, noise_rms, points)\n",
    "        b, a = signal.butter(10, fc, 'low')\n",
    "        lowpassnoise = signal.filtfilt(b, a, whitenoise)\n",
    "        noisyY=lowpassnoise+Y\n",
    "    \n",
    "    if(plot_==True):\n",
    "        plt.figure(0)\n",
    "        plt.plot(timestamps, Y)\n",
    "        plt.plot(timestamps, X)\n",
    "        plt.title('Signal without Noise')\n",
    "\n",
    "        plt.figure(file_no+1)\n",
    "        plt.plot(timestamps, noisyX)\n",
    "        plt.plot(timestamps, noisyY)\n",
    "        plt.title('Signal with Noise'+str(file_no+1))\n",
    "            \n",
    "    filename=folder_prefix+'genX'+str(file_no).zfill(5)+'.csv'\n",
    "    # writing to csv file \n",
    "    with open(filename, 'w') as csvfile: \n",
    "        # creating a csv writer object \n",
    "        csvwriter = csv.writer(csvfile) \n",
    "\n",
    "        # writing the fields \n",
    "        for _ in range(5): csvwriter.writerow(['a', 'a', 'a', 'a', 'a', 'a']) \n",
    "\n",
    "        # writing the data rows \n",
    "        csvwriter.writerows([[timestamps[n], noisyX[n]] for n in range(points)])\n",
    "        \n",
    "    filename=folder_prefix+'genY'+str(file_no).zfill(5)+'.csv'\n",
    "    # writing to csv file \n",
    "    with open(filename, 'w') as csvfile: \n",
    "        # creating a csv writer object \n",
    "        csvwriter = csv.writer(csvfile) \n",
    "\n",
    "        # writing the fields \n",
    "        for _ in range(5): csvwriter.writerow(['a', 'a', 'a', 'a', 'a', 'a']) \n",
    "\n",
    "        # writing the data rows \n",
    "        csvwriter.writerows([[timestamps[n], noisyY[n]] for n in range(points)])"
   ]
  },
  {
   "cell_type": "code",
   "execution_count": null,
   "metadata": {
    "canvas": {
     "comments": [],
     "componentType": "CodeCell",
     "copiedOriginId": null,
     "diskcache": false,
     "headerColor": "none",
     "id": "31ba6de5-6f06-4645-8ffb-9cf228ac3405",
     "isComponent": false,
     "name": "",
     "parents": []
    }
   },
   "outputs": [],
   "source": []
  },
  {
   "cell_type": "code",
   "execution_count": null,
   "metadata": {
    "canvas": {
     "comments": [],
     "componentType": "CodeCell",
     "copiedOriginId": null,
     "diskcache": false,
     "headerColor": "none",
     "id": "0e3d7972-697d-4ed0-a7ab-5144114c404a",
     "isComponent": false,
     "name": "",
     "parents": []
    }
   },
   "outputs": [],
   "source": [
    "\n",
    "\n",
    "for file_no in range(no_files):\n",
    "    \n",
    "    \n",
    "    filename=folder_prefix+str(file_no).zfill(5)+'.csv'\n",
    "    # writing to csv file \n",
    "    with open(filename, 'w') as csvfile: \n",
    "        # creating a csv writer object \n",
    "        csvwriter = csv.writer(csvfile) \n",
    "\n",
    "        # writing the fields \n",
    "        for _ in range(5): csvwriter.writerow(['a', 'a', 'a', 'a', 'a', 'a']) \n",
    "\n",
    "        # writing the data rows \n",
    "        csvwriter.writerows([[timestamps[n], Y[n]] for n in range(points)])"
   ]
  },
  {
   "cell_type": "code",
   "execution_count": null,
   "metadata": {
    "canvas": {
     "comments": [],
     "componentType": "CodeCell",
     "copiedOriginId": null,
     "diskcache": false,
     "headerColor": "none",
     "id": "32850de6-6568-4033-9ae6-6d47b20068ab",
     "isComponent": false,
     "name": "",
     "parents": []
    }
   },
   "outputs": [],
   "source": [
    "import csv \n",
    "# name of csv file \n",
    "folder_prefix = \"../generated_files/genX\"\n",
    "no_files=1000\n",
    "\n",
    "for file_no in range(no_files):\n",
    "    \n",
    "    \n",
    "    filename=folder_prefix+str(file_no).zfill(5)+'.csv'\n",
    "    # writing to csv file \n",
    "    with open(filename, 'w') as csvfile: \n",
    "        # creating a csv writer object \n",
    "        csvwriter = csv.writer(csvfile) \n",
    "\n",
    "        # writing the fields \n",
    "        for _ in range(5): csvwriter.writerow(['a', 'a', 'a', 'a', 'a', 'a']) \n",
    "\n",
    "        # writing the data rows \n",
    "        csvwriter.writerows([[timestamps[n], X[n]] for n in range(points)])"
   ]
  },
  {
   "cell_type": "markdown",
   "metadata": {
    "canvas": {
     "comments": [],
     "componentType": "CodeCell",
     "copiedOriginId": null,
     "diskcache": false,
     "headerColor": "none",
     "id": "38276ef7-fde4-4b75-af09-ab321315ef7d",
     "isComponent": false,
     "name": "",
     "parents": []
    }
   },
   "source": [
    "### Checking the Spectrum of Final Signals"
   ]
  },
  {
   "cell_type": "code",
   "execution_count": null,
   "metadata": {
    "canvas": {
     "comments": [],
     "componentType": "CodeCell",
     "copiedOriginId": null,
     "diskcache": false,
     "headerColor": "none",
     "id": "71aa0075-eadb-4c83-8e63-151847034582",
     "isComponent": false,
     "name": "",
     "parents": []
    }
   },
   "outputs": [],
   "source": [
    "### Checking the spectrum of the final signals\n",
    "\n",
    "fs=40e9\n",
    "f, Pxx_den = signal.welch(noisyX, fs, nperseg=1024)\n",
    "\n",
    "plt.semilogy(f, Pxx_den)\n",
    "\n",
    "#plt.ylim([0.5e-3, 1])\n",
    "\n",
    "plt.xlabel('frequency [Hz]')\n",
    "\n",
    "plt.ylabel('PSD [V**2/Hz]')\n",
    "\n",
    "plt.show()\n",
    "\n",
    "fs=40e9\n",
    "f, Pxx_den = signal.welch(noisyY, fs, nperseg=1024)\n",
    "\n",
    "plt.semilogy(f, Pxx_den)\n",
    "\n",
    "#plt.ylim([0.5e-3, 1])\n",
    "\n",
    "plt.xlabel('frequency [Hz]')\n",
    "\n",
    "plt.ylabel('PSD [V**2/Hz]')\n",
    "\n",
    "plt.show()"
   ]
  },
  {
   "cell_type": "code",
   "execution_count": null,
   "metadata": {
    "canvas": {
     "comments": [],
     "componentType": "CodeCell",
     "copiedOriginId": null,
     "diskcache": false,
     "headerColor": "none",
     "id": "422b75fe-fae5-42a8-a705-1a33eb0b2234",
     "isComponent": false,
     "name": "",
     "parents": []
    }
   },
   "outputs": [],
   "source": []
  },
  {
   "cell_type": "code",
   "execution_count": null,
   "metadata": {
    "canvas": {
     "comments": [],
     "componentType": "CodeCell",
     "copiedOriginId": null,
     "diskcache": false,
     "headerColor": "none",
     "id": "f739613c-e987-4a46-999a-347f8d25e526",
     "isComponent": false,
     "name": "",
     "parents": []
    }
   },
   "outputs": [],
   "source": []
  }
 ],
 "metadata": {
  "canvas": {
   "colorPalette": [
    "inherit",
    "inherit",
    "inherit",
    "inherit",
    "inherit",
    "inherit",
    "inherit",
    "inherit",
    "inherit",
    "inherit"
   ],
   "parameters": [],
   "version": "1.0"
  },
  "kernelspec": {
   "display_name": "Python 3 (ipykernel)",
   "language": "python",
   "name": "python3"
  },
  "language_info": {
   "codemirror_mode": {
    "name": "ipython",
    "version": 3
   },
   "file_extension": ".py",
   "mimetype": "text/x-python",
   "name": "python",
   "nbconvert_exporter": "python",
   "pygments_lexer": "ipython3",
   "version": "3.10.6"
  },
  "varInspector": {
   "cols": {
    "lenName": 16,
    "lenType": 16,
    "lenVar": 40
   },
   "kernels_config": {
    "python": {
     "delete_cmd_postfix": "",
     "delete_cmd_prefix": "del ",
     "library": "var_list.py",
     "varRefreshCmd": "print(var_dic_list())"
    },
    "r": {
     "delete_cmd_postfix": ") ",
     "delete_cmd_prefix": "rm(",
     "library": "var_list.r",
     "varRefreshCmd": "cat(var_dic_list()) "
    }
   },
   "types_to_exclude": [
    "module",
    "function",
    "builtin_function_or_method",
    "instance",
    "_Feature"
   ],
   "window_display": false
  }
 },
 "nbformat": 4,
 "nbformat_minor": 4
}
