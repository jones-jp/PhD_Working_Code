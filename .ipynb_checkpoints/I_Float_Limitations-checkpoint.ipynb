{
 "cells": [
  {
   "cell_type": "code",
   "execution_count": 25,
   "id": "4df3f37d-a624-4168-a64d-ad2b2d65c556",
   "metadata": {},
   "outputs": [],
   "source": [
    "import sys"
   ]
  },
  {
   "cell_type": "markdown",
   "id": "22d289f7-5bce-488a-ba48-321238361a33",
   "metadata": {},
   "source": [
    "## Float Limitations!"
   ]
  },
  {
   "cell_type": "markdown",
   "id": "952bb594-eeaa-418a-bdc2-f7414d175186",
   "metadata": {},
   "source": [
    "### Size of Float"
   ]
  },
  {
   "cell_type": "code",
   "execution_count": 31,
   "id": "731dff3f-1287-47ab-a826-166b37eea0ce",
   "metadata": {},
   "outputs": [
    {
     "data": {
      "text/plain": [
       "sys.float_info(max=1.7976931348623157e+308, max_exp=1024, max_10_exp=308, min=2.2250738585072014e-308, min_exp=-1021, min_10_exp=-307, dig=15, mant_dig=53, epsilon=2.220446049250313e-16, radix=2, rounds=1)"
      ]
     },
     "execution_count": 31,
     "metadata": {},
     "output_type": "execute_result"
    }
   ],
   "source": [
    "sys.float_info"
   ]
  },
  {
   "cell_type": "code",
   "execution_count": 29,
   "id": "d19eff0b-50ec-445a-8c6c-8003705aa871",
   "metadata": {},
   "outputs": [
    {
     "name": "stdout",
     "output_type": "stream",
     "text": [
      "a:  0.34444445555555553\n",
      "type(a):  <class 'float'>\n",
      "24\n"
     ]
    }
   ],
   "source": [
    "a=0.344444455555555555555555555555555555555555555555555555555555555555555555555555\n",
    "print(\"a: \", a)\n",
    "print(\"type(a): \",type(a))\n",
    "print(sys.getsizeof(a))"
   ]
  },
  {
   "cell_type": "code",
   "execution_count": 36,
   "id": "61dae388-4df0-4b0e-b4b0-151c724b83dd",
   "metadata": {},
   "outputs": [
    {
     "name": "stdout",
     "output_type": "stream",
     "text": [
      "\n",
      "size of array_a:  8856\n"
     ]
    }
   ],
   "source": [
    "array_a=[i for i in range(1000)]\n",
    "#print(\"array_a:  \",array_a)\n",
    "print(\"\\nsize of array_a: \", sys.getsizeof(array_a))"
   ]
  },
  {
   "cell_type": "markdown",
   "id": "6d9904b3-3416-463f-a3eb-4f710f9e28a9",
   "metadata": {},
   "source": [
    "  -----------------------------------------------------------------------------------------------------------------------"
   ]
  },
  {
   "cell_type": "markdown",
   "id": "1a0e3190-acc3-4cbe-b724-d912d81d2cfd",
   "metadata": {},
   "source": [
    "### 17 decimal places float, 16 digit significant\n",
    "(0.09646913451743411+0.09646913451743412)/2 <br>\n",
    "output is 0.09646913451743411, but it is supposed to be 0.096469134517434115"
   ]
  },
  {
   "cell_type": "code",
   "execution_count": 27,
   "id": "17f00b2e-b884-4ac5-b583-1d8a76d181cb",
   "metadata": {},
   "outputs": [
    {
     "data": {
      "text/plain": [
       "0.09646913451743411"
      ]
     },
     "execution_count": 27,
     "metadata": {},
     "output_type": "execute_result"
    }
   ],
   "source": [
    "(0.09646913451743411+0.09646913451743412)/2"
   ]
  },
  {
   "cell_type": "markdown",
   "id": "c06cf0b0-6f00-4cc7-9b54-6897310bf190",
   "metadata": {},
   "source": [
    "### 16 decimal places float, 15 digit significant\n",
    "output is what is expected"
   ]
  },
  {
   "cell_type": "code",
   "execution_count": 2,
   "id": "29dd6b0d-1f47-424a-8d96-43f6df8e0e0d",
   "metadata": {},
   "outputs": [
    {
     "data": {
      "text/plain": [
       "0.09646913451743415"
      ]
     },
     "execution_count": 2,
     "metadata": {},
     "output_type": "execute_result"
    }
   ],
   "source": [
    "(0.0964691345174341+0.0964691345174342)/2"
   ]
  },
  {
   "cell_type": "markdown",
   "id": "ffe96804-1d79-4d07-b887-55e940b98452",
   "metadata": {},
   "source": [
    "### 0.9-0.3 gives 0.6000000000000001"
   ]
  },
  {
   "cell_type": "code",
   "execution_count": 3,
   "id": "9ce1f1f9-dd20-47b3-95cb-982106c05db3",
   "metadata": {},
   "outputs": [
    {
     "data": {
      "text/plain": [
       "0.6000000000000001"
      ]
     },
     "execution_count": 3,
     "metadata": {},
     "output_type": "execute_result"
    }
   ],
   "source": [
    "0.9-0.3"
   ]
  },
  {
   "cell_type": "code",
   "execution_count": 28,
   "id": "ee2c25ca-9c41-463b-866b-b6382cc2c8ca",
   "metadata": {},
   "outputs": [
    {
     "data": {
      "text/plain": [
       "False"
      ]
     },
     "execution_count": 28,
     "metadata": {},
     "output_type": "execute_result"
    }
   ],
   "source": [
    "(0.9-0.3)==0.6"
   ]
  },
  {
   "cell_type": "markdown",
   "id": "6e3f4d9e-d27a-45ad-bca0-08c88f220ba9",
   "metadata": {},
   "source": [
    "### Rounding"
   ]
  },
  {
   "cell_type": "code",
   "execution_count": 19,
   "id": "599cace6-02bd-44eb-82f1-a902d871b856",
   "metadata": {},
   "outputs": [
    {
     "data": {
      "text/plain": [
       "1.0"
      ]
     },
     "execution_count": 19,
     "metadata": {},
     "output_type": "execute_result"
    }
   ],
   "source": [
    "round(0.999,2)"
   ]
  },
  {
   "cell_type": "code",
   "execution_count": 7,
   "id": "65567e2d-5d51-4ffe-b774-ae55273c6dbd",
   "metadata": {},
   "outputs": [
    {
     "data": {
      "text/plain": [
       "True"
      ]
     },
     "execution_count": 7,
     "metadata": {},
     "output_type": "execute_result"
    }
   ],
   "source": [
    "round(0.9)-round(0.3)==round(0.7)"
   ]
  },
  {
   "cell_type": "code",
   "execution_count": 9,
   "id": "7bd273ba-25e5-4494-9786-1437a4b7331c",
   "metadata": {},
   "outputs": [
    {
     "data": {
      "text/plain": [
       "False"
      ]
     },
     "execution_count": 9,
     "metadata": {},
     "output_type": "execute_result"
    }
   ],
   "source": [
    "round(0.9,1)-round(0.3,1)==round(0.6,1)"
   ]
  },
  {
   "cell_type": "code",
   "execution_count": 10,
   "id": "1d74959d-a500-4de5-a3c1-d5465c0102b0",
   "metadata": {},
   "outputs": [
    {
     "data": {
      "text/plain": [
       "True"
      ]
     },
     "execution_count": 10,
     "metadata": {},
     "output_type": "execute_result"
    }
   ],
   "source": [
    "round(0.9-0.3,1)==round(0.6,1)"
   ]
  },
  {
   "cell_type": "markdown",
   "id": "a0953fef-9fe6-4d15-a51b-c1ed5af0cfe5",
   "metadata": {},
   "source": [
    "  -----------------------------------------------------------------------------------------------------------------------"
   ]
  },
  {
   "cell_type": "code",
   "execution_count": null,
   "id": "9c34d468-64a8-4982-9d6e-a0dd74e30117",
   "metadata": {},
   "outputs": [],
   "source": []
  }
 ],
 "metadata": {
  "kernelspec": {
   "display_name": "Python 3 (ipykernel)",
   "language": "python",
   "name": "python3"
  },
  "language_info": {
   "codemirror_mode": {
    "name": "ipython",
    "version": 3
   },
   "file_extension": ".py",
   "mimetype": "text/x-python",
   "name": "python",
   "nbconvert_exporter": "python",
   "pygments_lexer": "ipython3",
   "version": "3.10.4"
  }
 },
 "nbformat": 4,
 "nbformat_minor": 5
}
